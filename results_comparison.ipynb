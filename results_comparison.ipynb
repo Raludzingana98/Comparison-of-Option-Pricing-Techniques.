{
 "cells": [
  {
   "cell_type": "code",
   "execution_count": null,
   "id": "63fff1d6",
   "metadata": {
    "vscode": {
     "languageId": "plaintext"
    }
   },
   "outputs": [],
   "source": [
    "import math\n",
    "import numpy as np\n",
    "import matplotlib.pyplot as plt\n"
   ]
  },
  {
   "cell_type": "code",
   "execution_count": null,
   "id": "91f28cf6",
   "metadata": {
    "vscode": {
     "languageId": "plaintext"
    }
   },
   "outputs": [],
   "source": [
    "def binomial_tree_model(S0, K, T, r, sigma, n=100):\n",
    "    dt = T / n\n",
    "    u = math.exp(sigma * math.sqrt(dt))\n",
    "    d = math.exp(-sigma * math.sqrt(dt))\n",
    "    p = (math.exp(r * dt) - d) / (u - d)\n",
    "    beta = math.exp(-r * dt)\n",
    "    \n",
    "    # Stock prices at maturity\n",
    "    stock_prices = [S0 * (u ** (n - i)) * (d ** i) for i in range(n + 1)]\n",
    "    \n",
    "    # Option payoffs\n",
    "    call_values = [max(price - K, 0) for price in stock_prices]\n",
    "    put_values = [max(K - price, 0) for price in stock_prices]\n",
    "    \n",
    "    # Backward induction\n",
    "    for i in range(n - 1, -1, -1):\n",
    "        for j in range(i + 1):\n",
    "            call_values[j] = beta * (p * call_values[j] + (1 - p) * call_values[j + 1])\n",
    "            put_values[j] = beta * (p * put_values[j] + (1 - p) * put_values[j + 1])\n",
    "    \n",
    "    return call_values[0], put_values[0]\n"
   ]
  },
  {
   "cell_type": "code",
   "execution_count": null,
   "id": "773a1efc",
   "metadata": {
    "vscode": {
     "languageId": "plaintext"
    }
   },
   "outputs": [],
   "source": [
    "def Phi(x):\n",
    "    return 0.5 * (1 + math.erf(x / math.sqrt(2)))\n",
    "\n",
    "def black_scholes_model(S0, K, T, r, sigma):\n",
    "    d1 = (math.log(S0 / K) + (r + 0.5 * sigma**2) * T) / (sigma * math.sqrt(T))\n",
    "    d2 = d1 - sigma * math.sqrt(T)\n",
    "    call = S0 * Phi(d1) - K * math.exp(-r * T) * Phi(d2)\n",
    "    put = K * math.exp(-r * T) * Phi(-d2) - S0 * Phi(-d1)\n",
    "    return call, put\n"
   ]
  },
  {
   "cell_type": "code",
   "execution_count": null,
   "id": "8b426b46",
   "metadata": {
    "vscode": {
     "languageId": "plaintext"
    }
   },
   "outputs": [],
   "source": [
    "# Input parameters\n",
    "S0 = 15600\n",
    "K = 15700\n",
    "T = 0.25\n",
    "r = 0.065\n",
    "sigma = 0.1846\n",
    "n = 100\n",
    "\n",
    "# Compute results\n",
    "call_bt, put_bt = binomial_tree_model(S0, K, T, r, sigma, n)\n",
    "call_bs, put_bs = black_scholes_model(S0, K, T, r, sigma)\n",
    "\n",
    "print(\"----------------------------------------------------\")\n",
    "print(\" European Option Pricing Model Comparison \")\n",
    "print(\"----------------------------------------------------\")\n",
    "print(f\"Stock Price (S0): {S0}\")\n",
    "print(f\"Strike Price (K): {K}\")\n",
    "print(f\"Volatility (σ): {sigma}\")\n",
    "print(f\"Risk-free rate (r): {r}\")\n",
    "print(f\"Time to maturity (T): {T}\")\n",
    "print(\"----------------------------------------------------\")\n",
    "print(f\"Binomial Model - Call: {call_bt:.4f} | Put: {put_bt:.4f}\")\n",
    "print(f\"Black-Scholes - Call: {call_bs:.4f} | Put: {put_bs:.4f}\")\n",
    "print(\"----------------------------------------------------\")\n",
    "print(f\"Difference (Call): {abs(call_bt - call_bs):.6f}\")\n",
    "print(f\"Difference (Put) : {abs(put_bt - put_bs):.6f}\")\n",
    "print(\"----------------------------------------------------\")\n"
   ]
  },
  {
   "cell_type": "code",
   "execution_count": null,
   "id": "ae1435b3",
   "metadata": {
    "vscode": {
     "languageId": "plaintext"
    }
   },
   "outputs": [],
   "source": [
    "volatilities = np.linspace(0.05, 0.5, 20)\n",
    "binomial_calls = []\n",
    "black_scholes_calls = []\n",
    "\n",
    "for v in volatilities:\n",
    "    c_bt, _ = binomial_tree_model(S0, K, T, r, v, n)\n",
    "    c_bs, _ = black_scholes_model(S0, K, T, r, v)\n",
    "    binomial_calls.append(c_bt)\n",
    "    black_scholes_calls.append(c_bs)\n",
    "\n",
    "plt.figure(figsize=(8,5))\n",
    "plt.plot(volatilities, binomial_calls, 'o-', label='Binomial Tree Model')\n",
    "plt.plot(volatilities, black_scholes_calls, 's-', label='Black-Scholes Model')\n",
    "plt.title(\"European Call Option Price vs Volatility\")\n",
    "plt.xlabel(\"Volatility (σ)\")\n",
    "plt.ylabel(\"Call Option Price\")\n",
    "plt.legend()\n",
    "plt.grid(True)\n",
    "plt.show()\n"
   ]
  },
  {
   "cell_type": "code",
   "execution_count": null,
   "id": "3ff0dff1",
   "metadata": {
    "vscode": {
     "languageId": "plaintext"
    }
   },
   "outputs": [],
   "source": []
  }
 ],
 "metadata": {
  "language_info": {
   "name": "python"
  }
 },
 "nbformat": 4,
 "nbformat_minor": 5
}
